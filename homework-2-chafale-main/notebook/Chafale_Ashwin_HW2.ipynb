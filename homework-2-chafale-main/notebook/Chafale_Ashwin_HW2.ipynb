{
 "cells": [
  {
   "cell_type": "markdown",
   "source": [
    "### Name : Ashwin Chafale\n",
    "### Github unsername : chafale\n",
    "### USC-ID : 1990624801"
   ],
   "metadata": {
    "collapsed": false,
    "pycharm": {
     "name": "#%% md\n"
    }
   }
  },
  {
   "cell_type": "code",
   "execution_count": 1,
   "metadata": {
    "collapsed": true,
    "jupyter": {
     "outputs_hidden": true
    }
   },
   "outputs": [],
   "source": [
    "import pandas as pd\n",
    "import numpy as np\n",
    "import seaborn as sb\n",
    "import matplotlib.pyplot as plt\n",
    "import statsmodels.formula.api as smf\n",
    "from sklearn.model_selection import train_test_split\n",
    "from sklearn.preprocessing import PolynomialFeatures\n",
    "from sklearn import linear_model\n",
    "from sklearn.metrics import r2_score\n",
    "from sklearn.linear_model import LinearRegression\n",
    "import statsmodels.api as sm"
   ]
  },
  {
   "cell_type": "markdown",
   "source": [
    "(a) Download the Combined Cycle Power Plant data1 from:\n",
    "https://archive.ics.uci.edu/ml/datasets/Combined+Cycle+Power+Plant"
   ],
   "metadata": {
    "collapsed": false,
    "pycharm": {
     "name": "#%% md\n"
    }
   }
  },
  {
   "cell_type": "markdown",
   "source": [
    "(b) Exploring the data:\n",
    "i. How many rows are in this data set? How many columns? What do the rows\n",
    "and columns represent?"
   ],
   "metadata": {
    "collapsed": false,
    "pycharm": {
     "name": "#%% md\n"
    }
   }
  },
  {
   "cell_type": "code",
   "execution_count": 2,
   "metadata": {
    "pycharm": {
     "name": "#%%\n"
    }
   },
   "outputs": [
    {
     "name": "stdout",
     "output_type": "stream",
     "text": [
      "AT represent : Ambient Temperature\n",
      "V represent : Exhaust Vacuum\n",
      "AP represent : Ambient Pressure\n",
      "RH represent : Relative Humidity\n",
      "PE represent : Energy Output\n"
     ]
    },
    {
     "data": {
      "text/plain": "         AT      V       AP     RH      PE\n9563  16.65  49.69  1014.01  91.00  460.03\n9564  13.19  39.18  1023.67  66.78  469.62\n9565  31.32  74.33  1012.92  36.48  429.57\n9566  24.48  69.45  1013.86  62.39  435.74\n9567  21.60  62.52  1017.23  67.87  453.28",
      "text/html": "<div>\n<style scoped>\n    .dataframe tbody tr th:only-of-type {\n        vertical-align: middle;\n    }\n\n    .dataframe tbody tr th {\n        vertical-align: top;\n    }\n\n    .dataframe thead th {\n        text-align: right;\n    }\n</style>\n<table border=\"1\" class=\"dataframe\">\n  <thead>\n    <tr style=\"text-align: right;\">\n      <th></th>\n      <th>AT</th>\n      <th>V</th>\n      <th>AP</th>\n      <th>RH</th>\n      <th>PE</th>\n    </tr>\n  </thead>\n  <tbody>\n    <tr>\n      <th>9563</th>\n      <td>16.65</td>\n      <td>49.69</td>\n      <td>1014.01</td>\n      <td>91.00</td>\n      <td>460.03</td>\n    </tr>\n    <tr>\n      <th>9564</th>\n      <td>13.19</td>\n      <td>39.18</td>\n      <td>1023.67</td>\n      <td>66.78</td>\n      <td>469.62</td>\n    </tr>\n    <tr>\n      <th>9565</th>\n      <td>31.32</td>\n      <td>74.33</td>\n      <td>1012.92</td>\n      <td>36.48</td>\n      <td>429.57</td>\n    </tr>\n    <tr>\n      <th>9566</th>\n      <td>24.48</td>\n      <td>69.45</td>\n      <td>1013.86</td>\n      <td>62.39</td>\n      <td>435.74</td>\n    </tr>\n    <tr>\n      <th>9567</th>\n      <td>21.60</td>\n      <td>62.52</td>\n      <td>1017.23</td>\n      <td>67.87</td>\n      <td>453.28</td>\n    </tr>\n  </tbody>\n</table>\n</div>"
     },
     "execution_count": 2,
     "metadata": {},
     "output_type": "execute_result"
    }
   ],
   "source": [
    "df = pd.read_excel('../data/CCPP/Folds5x2_pp.xlsx')\n",
    "print(\"AT represent : Ambient Temperature\")\n",
    "print(\"V represent : Exhaust Vacuum\")\n",
    "print(\"AP represent : Ambient Pressure\")\n",
    "print(\"RH represent : Relative Humidity\")\n",
    "print(\"PE represent : Energy Output\")\n",
    "df.tail()"
   ]
  },
  {
   "cell_type": "code",
   "execution_count": 3,
   "metadata": {
    "collapsed": false,
    "jupyter": {
     "outputs_hidden": false
    },
    "pycharm": {
     "name": "#%%\n"
    }
   },
   "outputs": [
    {
     "data": {
      "text/plain": "(9568, 5)"
     },
     "execution_count": 3,
     "metadata": {},
     "output_type": "execute_result"
    }
   ],
   "source": [
    "df.shape"
   ]
  },
  {
   "cell_type": "markdown",
   "source": [
    "(b) iii. What are the mean, the median, range,  rst and third quartiles, and interquartile ranges of each of the variables in the dataset? Summarize them in a table."
   ],
   "metadata": {
    "collapsed": false,
    "pycharm": {
     "name": "#%% md\n"
    }
   }
  },
  {
   "cell_type": "code",
   "execution_count": 4,
   "metadata": {
    "collapsed": false,
    "jupyter": {
     "outputs_hidden": false
    },
    "pycharm": {
     "name": "#%%\n"
    }
   },
   "outputs": [
    {
     "data": {
      "text/plain": "                AT            V           AP           RH           PE\ncount  9568.000000  9568.000000  9568.000000  9568.000000  9568.000000\nmean     19.651231    54.305804  1013.259078    73.308978   454.365009\nstd       7.452473    12.707893     5.938784    14.600269    17.066995\nmin       1.810000    25.360000   992.890000    25.560000   420.260000\n25%      13.510000    41.740000  1009.100000    63.327500   439.750000\n50%      20.345000    52.080000  1012.940000    74.975000   451.550000\n75%      25.720000    66.540000  1017.260000    84.830000   468.430000\nmax      37.110000    81.560000  1033.300000   100.160000   495.760000",
      "text/html": "<div>\n<style scoped>\n    .dataframe tbody tr th:only-of-type {\n        vertical-align: middle;\n    }\n\n    .dataframe tbody tr th {\n        vertical-align: top;\n    }\n\n    .dataframe thead th {\n        text-align: right;\n    }\n</style>\n<table border=\"1\" class=\"dataframe\">\n  <thead>\n    <tr style=\"text-align: right;\">\n      <th></th>\n      <th>AT</th>\n      <th>V</th>\n      <th>AP</th>\n      <th>RH</th>\n      <th>PE</th>\n    </tr>\n  </thead>\n  <tbody>\n    <tr>\n      <th>count</th>\n      <td>9568.000000</td>\n      <td>9568.000000</td>\n      <td>9568.000000</td>\n      <td>9568.000000</td>\n      <td>9568.000000</td>\n    </tr>\n    <tr>\n      <th>mean</th>\n      <td>19.651231</td>\n      <td>54.305804</td>\n      <td>1013.259078</td>\n      <td>73.308978</td>\n      <td>454.365009</td>\n    </tr>\n    <tr>\n      <th>std</th>\n      <td>7.452473</td>\n      <td>12.707893</td>\n      <td>5.938784</td>\n      <td>14.600269</td>\n      <td>17.066995</td>\n    </tr>\n    <tr>\n      <th>min</th>\n      <td>1.810000</td>\n      <td>25.360000</td>\n      <td>992.890000</td>\n      <td>25.560000</td>\n      <td>420.260000</td>\n    </tr>\n    <tr>\n      <th>25%</th>\n      <td>13.510000</td>\n      <td>41.740000</td>\n      <td>1009.100000</td>\n      <td>63.327500</td>\n      <td>439.750000</td>\n    </tr>\n    <tr>\n      <th>50%</th>\n      <td>20.345000</td>\n      <td>52.080000</td>\n      <td>1012.940000</td>\n      <td>74.975000</td>\n      <td>451.550000</td>\n    </tr>\n    <tr>\n      <th>75%</th>\n      <td>25.720000</td>\n      <td>66.540000</td>\n      <td>1017.260000</td>\n      <td>84.830000</td>\n      <td>468.430000</td>\n    </tr>\n    <tr>\n      <th>max</th>\n      <td>37.110000</td>\n      <td>81.560000</td>\n      <td>1033.300000</td>\n      <td>100.160000</td>\n      <td>495.760000</td>\n    </tr>\n  </tbody>\n</table>\n</div>"
     },
     "execution_count": 4,
     "metadata": {},
     "output_type": "execute_result"
    }
   ],
   "source": [
    "df.describe()"
   ]
  },
  {
   "cell_type": "markdown",
   "source": [
    "(b) ii. Make pairwise scatterplots of all the varianbles in the data set including the predictors (independent variables) with the dependent variable. Describe your findings."
   ],
   "metadata": {
    "collapsed": false,
    "pycharm": {
     "name": "#%% md\n"
    }
   }
  },
  {
   "cell_type": "code",
   "execution_count": 5,
   "metadata": {
    "collapsed": false,
    "jupyter": {
     "outputs_hidden": false
    },
    "pycharm": {
     "name": "#%%\n"
    }
   },
   "outputs": [],
   "source": [
    "# sb.set_style(style=\"whitegrid\")\n",
    "# sb.pairplot(df, hue=\"PE\")"
   ]
  },
  {
   "cell_type": "markdown",
   "source": [
    "(c) For each predictor, fit a simple linear regression model to predict the response.\n",
    "Describe your results. In which of the models is there a statistically significant\n",
    "association between the predictor and the response? Create some plots to back\n",
    "up your assertions. Are there any outliers that you would like to remove from\n",
    "your data for each of these regression tasks?"
   ],
   "metadata": {
    "collapsed": false,
    "pycharm": {
     "name": "#%% md\n"
    }
   }
  },
  {
   "cell_type": "code",
   "execution_count": 6,
   "metadata": {
    "pycharm": {
     "name": "#%%\n"
    }
   },
   "outputs": [
    {
     "name": "stdout",
     "output_type": "stream",
     "text": [
      "Coefficient : [ B0 = 497.034119892767, B1 = -2.1713199585178047]\n"
     ]
    },
    {
     "data": {
      "text/plain": "<class 'statsmodels.iolib.summary.Summary'>\n\"\"\"\n                            OLS Regression Results                            \n==============================================================================\nDep. Variable:                     PE   R-squared:                       0.899\nModel:                            OLS   Adj. R-squared:                  0.899\nMethod:                 Least Squares   F-statistic:                 8.510e+04\nDate:                Fri, 11 Feb 2022   Prob (F-statistic):               0.00\nTime:                        23:21:32   Log-Likelihood:                -29756.\nNo. Observations:                9568   AIC:                         5.952e+04\nDf Residuals:                    9566   BIC:                         5.953e+04\nDf Model:                           1                                         \nCovariance Type:            nonrobust                                         \n==============================================================================\n                 coef    std err          t      P>|t|      [0.025      0.975]\n------------------------------------------------------------------------------\nIntercept    497.0341      0.156   3177.280      0.000     496.727     497.341\nAT            -2.1713      0.007   -291.715      0.000      -2.186      -2.157\n==============================================================================\nOmnibus:                      417.457   Durbin-Watson:                   2.033\nProb(Omnibus):                  0.000   Jarque-Bera (JB):             1117.844\nSkew:                          -0.209   Prob(JB):                    1.83e-243\nKurtosis:                       4.621   Cond. No.                         59.4\n==============================================================================\n\nNotes:\n[1] Standard Errors assume that the covariance matrix of the errors is correctly specified.\n\"\"\"",
      "text/html": "<table class=\"simpletable\">\n<caption>OLS Regression Results</caption>\n<tr>\n  <th>Dep. Variable:</th>           <td>PE</td>        <th>  R-squared:         </th> <td>   0.899</td> \n</tr>\n<tr>\n  <th>Model:</th>                   <td>OLS</td>       <th>  Adj. R-squared:    </th> <td>   0.899</td> \n</tr>\n<tr>\n  <th>Method:</th>             <td>Least Squares</td>  <th>  F-statistic:       </th> <td>8.510e+04</td>\n</tr>\n<tr>\n  <th>Date:</th>             <td>Fri, 11 Feb 2022</td> <th>  Prob (F-statistic):</th>  <td>  0.00</td>  \n</tr>\n<tr>\n  <th>Time:</th>                 <td>23:21:32</td>     <th>  Log-Likelihood:    </th> <td> -29756.</td> \n</tr>\n<tr>\n  <th>No. Observations:</th>      <td>  9568</td>      <th>  AIC:               </th> <td>5.952e+04</td>\n</tr>\n<tr>\n  <th>Df Residuals:</th>          <td>  9566</td>      <th>  BIC:               </th> <td>5.953e+04</td>\n</tr>\n<tr>\n  <th>Df Model:</th>              <td>     1</td>      <th>                     </th>     <td> </td>    \n</tr>\n<tr>\n  <th>Covariance Type:</th>      <td>nonrobust</td>    <th>                     </th>     <td> </td>    \n</tr>\n</table>\n<table class=\"simpletable\">\n<tr>\n      <td></td>         <th>coef</th>     <th>std err</th>      <th>t</th>      <th>P>|t|</th>  <th>[0.025</th>    <th>0.975]</th>  \n</tr>\n<tr>\n  <th>Intercept</th> <td>  497.0341</td> <td>    0.156</td> <td> 3177.280</td> <td> 0.000</td> <td>  496.727</td> <td>  497.341</td>\n</tr>\n<tr>\n  <th>AT</th>        <td>   -2.1713</td> <td>    0.007</td> <td> -291.715</td> <td> 0.000</td> <td>   -2.186</td> <td>   -2.157</td>\n</tr>\n</table>\n<table class=\"simpletable\">\n<tr>\n  <th>Omnibus:</th>       <td>417.457</td> <th>  Durbin-Watson:     </th> <td>   2.033</td> \n</tr>\n<tr>\n  <th>Prob(Omnibus):</th> <td> 0.000</td>  <th>  Jarque-Bera (JB):  </th> <td>1117.844</td> \n</tr>\n<tr>\n  <th>Skew:</th>          <td>-0.209</td>  <th>  Prob(JB):          </th> <td>1.83e-243</td>\n</tr>\n<tr>\n  <th>Kurtosis:</th>      <td> 4.621</td>  <th>  Cond. No.          </th> <td>    59.4</td> \n</tr>\n</table><br/><br/>Notes:<br/>[1] Standard Errors assume that the covariance matrix of the errors is correctly specified."
     },
     "execution_count": 6,
     "metadata": {},
     "output_type": "execute_result"
    }
   ],
   "source": [
    "# simple linear regression\n",
    "model = smf.ols('PE~AT', df).fit()\n",
    "# getting intercept parameters\n",
    "b0 = model.params[0]\n",
    "b1 = model.params[1]\n",
    "print(\"Coefficient : [ B0 = {}, B1 = {}]\".format(b0, b1))\n",
    "model.summary()"
   ]
  },
  {
   "cell_type": "code",
   "execution_count": 7,
   "metadata": {
    "collapsed": false,
    "jupyter": {
     "outputs_hidden": false
    },
    "pycharm": {
     "name": "#%%\n"
    }
   },
   "outputs": [
    {
     "name": "stdout",
     "output_type": "stream",
     "text": [
      "[ -2.17131996 497.03411989]\n"
     ]
    },
    {
     "data": {
      "text/plain": "[<matplotlib.lines.Line2D at 0x7fbea46f6190>,\n <matplotlib.lines.Line2D at 0x7fbea46f6070>]"
     },
     "execution_count": 7,
     "metadata": {},
     "output_type": "execute_result"
    },
    {
     "data": {
      "text/plain": "<Figure size 432x288 with 1 Axes>",
      "image/png": "[encoded data removed]"
     },
     "metadata": {
      "needs_background": "light"
     },
     "output_type": "display_data"
    }
   ],
   "source": [
    "# at vs pe\n",
    "x = np.array(df.AT)\n",
    "y = np.array(df.PE)\n",
    "plt.plot(x, y, 'o')\n",
    "coef = np.polyfit(x, y, 1)\n",
    "print(coef)\n",
    "poly1d_fn = np.poly1d(coef)\n",
    "\n",
    "plt.plot(x,y, 'yo', x, poly1d_fn(x))"
   ]
  },
  {
   "cell_type": "code",
   "execution_count": 8,
   "metadata": {
    "pycharm": {
     "name": "#%%\n"
    }
   },
   "outputs": [
    {
     "name": "stdout",
     "output_type": "stream",
     "text": [
      "Coefficient : [ B0 = 517.801526308386, B1 = -1.1681351265557107]\n"
     ]
    },
    {
     "data": {
      "text/plain": "<class 'statsmodels.iolib.summary.Summary'>\n\"\"\"\n                            OLS Regression Results                            \n==============================================================================\nDep. Variable:                     PE   R-squared:                       0.757\nModel:                            OLS   Adj. R-squared:                  0.756\nMethod:                 Least Squares   F-statistic:                 2.972e+04\nDate:                Fri, 11 Feb 2022   Prob (F-statistic):               0.00\nTime:                        23:21:33   Log-Likelihood:                -33963.\nNo. Observations:                9568   AIC:                         6.793e+04\nDf Residuals:                    9566   BIC:                         6.794e+04\nDf Model:                           1                                         \nCovariance Type:            nonrobust                                         \n==============================================================================\n                 coef    std err          t      P>|t|      [0.025      0.975]\n------------------------------------------------------------------------------\nIntercept    517.8015      0.378   1370.218      0.000     517.061     518.542\nV             -1.1681      0.007   -172.402      0.000      -1.181      -1.155\n==============================================================================\nOmnibus:                       77.693   Durbin-Watson:                   2.007\nProb(Omnibus):                  0.000   Jarque-Bera (JB):              109.571\nSkew:                          -0.097   Prob(JB):                     1.61e-24\nKurtosis:                       3.487   Cond. No.                         245.\n==============================================================================\n\nNotes:\n[1] Standard Errors assume that the covariance matrix of the errors is correctly specified.\n\"\"\"",
      "text/html": "<table class=\"simpletable\">\n<caption>OLS Regression Results</caption>\n<tr>\n  <th>Dep. Variable:</th>           <td>PE</td>        <th>  R-squared:         </th> <td>   0.757</td> \n</tr>\n<tr>\n  <th>Model:</th>                   <td>OLS</td>       <th>  Adj. R-squared:    </th> <td>   0.756</td> \n</tr>\n<tr>\n  <th>Method:</th>             <td>Least Squares</td>  <th>  F-statistic:       </th> <td>2.972e+04</td>\n</tr>\n<tr>\n  <th>Date:</th>             <td>Fri, 11 Feb 2022</td> <th>  Prob (F-statistic):</th>  <td>  0.00</td>  \n</tr>\n<tr>\n  <th>Time:</th>                 <td>23:21:33</td>     <th>  Log-Likelihood:    </th> <td> -33963.</td> \n</tr>\n<tr>\n  <th>No. Observations:</th>      <td>  9568</td>      <th>  AIC:               </th> <td>6.793e+04</td>\n</tr>\n<tr>\n  <th>Df Residuals:</th>          <td>  9566</td>      <th>  BIC:               </th> <td>6.794e+04</td>\n</tr>\n<tr>\n  <th>Df Model:</th>              <td>     1</td>      <th>                     </th>     <td> </td>    \n</tr>\n<tr>\n  <th>Covariance Type:</th>      <td>nonrobust</td>    <th>                     </th>     <td> </td>    \n</tr>\n</table>\n<table class=\"simpletable\">\n<tr>\n      <td></td>         <th>coef</th>     <th>std err</th>      <th>t</th>      <th>P>|t|</th>  <th>[0.025</th>    <th>0.975]</th>  \n</tr>\n<tr>\n  <th>Intercept</th> <td>  517.8015</td> <td>    0.378</td> <td> 1370.218</td> <td> 0.000</td> <td>  517.061</td> <td>  518.542</td>\n</tr>\n<tr>\n  <th>V</th>         <td>   -1.1681</td> <td>    0.007</td> <td> -172.402</td> <td> 0.000</td> <td>   -1.181</td> <td>   -1.155</td>\n</tr>\n</table>\n<table class=\"simpletable\">\n<tr>\n  <th>Omnibus:</th>       <td>77.693</td> <th>  Durbin-Watson:     </th> <td>   2.007</td>\n</tr>\n<tr>\n  <th>Prob(Omnibus):</th> <td> 0.000</td> <th>  Jarque-Bera (JB):  </th> <td> 109.571</td>\n</tr>\n<tr>\n  <th>Skew:</th>          <td>-0.097</td> <th>  Prob(JB):          </th> <td>1.61e-24</td>\n</tr>\n<tr>\n  <th>Kurtosis:</th>      <td> 3.487</td> <th>  Cond. No.          </th> <td>    245.</td>\n</tr>\n</table><br/><br/>Notes:<br/>[1] Standard Errors assume that the covariance matrix of the errors is correctly specified."
     },
     "execution_count": 8,
     "metadata": {},
     "output_type": "execute_result"
    }
   ],
   "source": [
    "# simple linear regression\n",
    "model = smf.ols('PE~V', df).fit()\n",
    "# getting intercept parameters\n",
    "b0 = model.params[0]\n",
    "b1 = model.params[1]\n",
    "print(\"Coefficient : [ B0 = {}, B1 = {}]\".format(b0, b1))\n",
    "model.summary()"
   ]
  },
  {
   "cell_type": "code",
   "execution_count": 9,
   "metadata": {
    "collapsed": false,
    "jupyter": {
     "outputs_hidden": false
    },
    "pycharm": {
     "name": "#%%\n"
    }
   },
   "outputs": [
    {
     "data": {
      "text/plain": "[<matplotlib.lines.Line2D at 0x7fbe9061f190>,\n <matplotlib.lines.Line2D at 0x7fbe9061f250>]"
     },
     "execution_count": 9,
     "metadata": {},
     "output_type": "execute_result"
    },
    {
     "data": {
      "text/plain": "<Figure size 432x288 with 1 Axes>",
      "image/png": "[encoded data removed]"
     },
     "metadata": {
      "needs_background": "light"
     },
     "output_type": "display_data"
    }
   ],
   "source": [
    "# v vs pe\n",
    "x = np.array(df.V)\n",
    "y = np.array(df.PE)\n",
    "plt.plot(x, y, 'o')\n",
    "coef = np.polyfit(x, y, 1)\n",
    "poly1d_fn = np.poly1d(coef)\n",
    "\n",
    "plt.plot(x, y, 'yo', x, poly1d_fn(x))"
   ]
  },
  {
   "cell_type": "code",
   "execution_count": 10,
   "metadata": {
    "pycharm": {
     "name": "#%%\n"
    }
   },
   "outputs": [
    {
     "name": "stdout",
     "output_type": "stream",
     "text": [
      "Coefficient : [ B0 = -1055.260988984437, B1 = 1.4898716733991129]\n"
     ]
    },
    {
     "data": {
      "text/plain": "<class 'statsmodels.iolib.summary.Summary'>\n\"\"\"\n                            OLS Regression Results                            \n==============================================================================\nDep. Variable:                     PE   R-squared:                       0.269\nModel:                            OLS   Adj. R-squared:                  0.269\nMethod:                 Least Squares   F-statistic:                     3516.\nDate:                Fri, 11 Feb 2022   Prob (F-statistic):               0.00\nTime:                        23:21:33   Log-Likelihood:                -39224.\nNo. Observations:                9568   AIC:                         7.845e+04\nDf Residuals:                    9566   BIC:                         7.847e+04\nDf Model:                           1                                         \nCovariance Type:            nonrobust                                         \n==============================================================================\n                 coef    std err          t      P>|t|      [0.025      0.975]\n------------------------------------------------------------------------------\nIntercept  -1055.2610     25.459    -41.449      0.000   -1105.167   -1005.355\nAP             1.4899      0.025     59.296      0.000       1.441       1.539\n==============================================================================\nOmnibus:                      525.438   Durbin-Watson:                   1.996\nProb(Omnibus):                  0.000   Jarque-Bera (JB):              612.290\nSkew:                           0.616   Prob(JB):                    1.10e-133\nKurtosis:                       2.859   Cond. No.                     1.73e+05\n==============================================================================\n\nNotes:\n[1] Standard Errors assume that the covariance matrix of the errors is correctly specified.\n[2] The condition number is large, 1.73e+05. This might indicate that there are\nstrong multicollinearity or other numerical problems.\n\"\"\"",
      "text/html": "<table class=\"simpletable\">\n<caption>OLS Regression Results</caption>\n<tr>\n  <th>Dep. Variable:</th>           <td>PE</td>        <th>  R-squared:         </th> <td>   0.269</td> \n</tr>\n<tr>\n  <th>Model:</th>                   <td>OLS</td>       <th>  Adj. R-squared:    </th> <td>   0.269</td> \n</tr>\n<tr>\n  <th>Method:</th>             <td>Least Squares</td>  <th>  F-statistic:       </th> <td>   3516.</td> \n</tr>\n<tr>\n  <th>Date:</th>             <td>Fri, 11 Feb 2022</td> <th>  Prob (F-statistic):</th>  <td>  0.00</td>  \n</tr>\n<tr>\n  <th>Time:</th>                 <td>23:21:33</td>     <th>  Log-Likelihood:    </th> <td> -39224.</td> \n</tr>\n<tr>\n  <th>No. Observations:</th>      <td>  9568</td>      <th>  AIC:               </th> <td>7.845e+04</td>\n</tr>\n<tr>\n  <th>Df Residuals:</th>          <td>  9566</td>      <th>  BIC:               </th> <td>7.847e+04</td>\n</tr>\n<tr>\n  <th>Df Model:</th>              <td>     1</td>      <th>                     </th>     <td> </td>    \n</tr>\n<tr>\n  <th>Covariance Type:</th>      <td>nonrobust</td>    <th>                     </th>     <td> </td>    \n</tr>\n</table>\n<table class=\"simpletable\">\n<tr>\n      <td></td>         <th>coef</th>     <th>std err</th>      <th>t</th>      <th>P>|t|</th>  <th>[0.025</th>    <th>0.975]</th>  \n</tr>\n<tr>\n  <th>Intercept</th> <td>-1055.2610</td> <td>   25.459</td> <td>  -41.449</td> <td> 0.000</td> <td>-1105.167</td> <td>-1005.355</td>\n</tr>\n<tr>\n  <th>AP</th>        <td>    1.4899</td> <td>    0.025</td> <td>   59.296</td> <td> 0.000</td> <td>    1.441</td> <td>    1.539</td>\n</tr>\n</table>\n<table class=\"simpletable\">\n<tr>\n  <th>Omnibus:</th>       <td>525.438</td> <th>  Durbin-Watson:     </th> <td>   1.996</td> \n</tr>\n<tr>\n  <th>Prob(Omnibus):</th> <td> 0.000</td>  <th>  Jarque-Bera (JB):  </th> <td> 612.290</td> \n</tr>\n<tr>\n  <th>Skew:</th>          <td> 0.616</td>  <th>  Prob(JB):          </th> <td>1.10e-133</td>\n</tr>\n<tr>\n  <th>Kurtosis:</th>      <td> 2.859</td>  <th>  Cond. No.          </th> <td>1.73e+05</td> \n</tr>\n</table><br/><br/>Notes:<br/>[1] Standard Errors assume that the covariance matrix of the errors is correctly specified.<br/>[2] The condition number is large, 1.73e+05. This might indicate that there are<br/>strong multicollinearity or other numerical problems."
     },
     "execution_count": 10,
     "metadata": {},
     "output_type": "execute_result"
    }
   ],
   "source": [
    "# simple linear regression\n",
    "model = smf.ols('PE~AP', df).fit()\n",
    "# getting intercept parameters\n",
    "b0 = model.params[0]\n",
    "b1 = model.params[1]\n",
    "print(\"Coefficient : [ B0 = {}, B1 = {}]\".format(b0, b1))\n",
    "model.summary()"
   ]
  },
  {
   "cell_type": "code",
   "execution_count": 11,
   "metadata": {
    "collapsed": false,
    "jupyter": {
     "outputs_hidden": false
    },
    "pycharm": {
     "name": "#%%\n"
    }
   },
   "outputs": [
    {
     "data": {
      "text/plain": "[<matplotlib.lines.Line2D at 0x7fbe9067a430>,\n <matplotlib.lines.Line2D at 0x7fbe9067a520>]"
     },
     "execution_count": 11,
     "metadata": {},
     "output_type": "execute_result"
    },
    {
     "data": {
      "text/plain": "<Figure size 432x288 with 1 Axes>",
      "image/png": "[encoded data removed]"
     },
     "metadata": {
      "needs_background": "light"
     },
     "output_type": "display_data"
    }
   ],
   "source": [
    "# ap vs pe\n",
    "x = np.array(df.AP)\n",
    "y = np.array(df.PE)\n",
    "plt.plot(x, y, 'o')\n",
    "coef = np.polyfit(x, y, 1)\n",
    "poly1d_fn = np.poly1d(coef)\n",
    "\n",
    "plt.plot(x,y, 'yo', x, poly1d_fn(x))"
   ]
  },
  {
   "cell_type": "code",
   "execution_count": 12,
   "metadata": {
    "pycharm": {
     "name": "#%%\n"
    }
   },
   "outputs": [
    {
     "name": "stdout",
     "output_type": "stream",
     "text": [
      "Coefficient : [ B0 = 420.96176615548404, B1 = 0.45565010226298014]\n"
     ]
    },
    {
     "data": {
      "text/plain": "<class 'statsmodels.iolib.summary.Summary'>\n\"\"\"\n                            OLS Regression Results                            \n==============================================================================\nDep. Variable:                     PE   R-squared:                       0.152\nModel:                            OLS   Adj. R-squared:                  0.152\nMethod:                 Least Squares   F-statistic:                     1714.\nDate:                Fri, 11 Feb 2022   Prob (F-statistic):               0.00\nTime:                        23:21:33   Log-Likelihood:                -39933.\nNo. Observations:                9568   AIC:                         7.987e+04\nDf Residuals:                    9566   BIC:                         7.988e+04\nDf Model:                           1                                         \nCovariance Type:            nonrobust                                         \n==============================================================================\n                 coef    std err          t      P>|t|      [0.025      0.975]\n------------------------------------------------------------------------------\nIntercept    420.9618      0.823    511.676      0.000     419.349     422.574\nRH             0.4557      0.011     41.399      0.000       0.434       0.477\n==============================================================================\nOmnibus:                      772.278   Durbin-Watson:                   1.998\nProb(Omnibus):                  0.000   Jarque-Bera (JB):              319.245\nSkew:                           0.231   Prob(JB):                     4.75e-70\nKurtosis:                       2.234   Cond. No.                         383.\n==============================================================================\n\nNotes:\n[1] Standard Errors assume that the covariance matrix of the errors is correctly specified.\n\"\"\"",
      "text/html": "<table class=\"simpletable\">\n<caption>OLS Regression Results</caption>\n<tr>\n  <th>Dep. Variable:</th>           <td>PE</td>        <th>  R-squared:         </th> <td>   0.152</td> \n</tr>\n<tr>\n  <th>Model:</th>                   <td>OLS</td>       <th>  Adj. R-squared:    </th> <td>   0.152</td> \n</tr>\n<tr>\n  <th>Method:</th>             <td>Least Squares</td>  <th>  F-statistic:       </th> <td>   1714.</td> \n</tr>\n<tr>\n  <th>Date:</th>             <td>Fri, 11 Feb 2022</td> <th>  Prob (F-statistic):</th>  <td>  0.00</td>  \n</tr>\n<tr>\n  <th>Time:</th>                 <td>23:21:33</td>     <th>  Log-Likelihood:    </th> <td> -39933.</td> \n</tr>\n<tr>\n  <th>No. Observations:</th>      <td>  9568</td>      <th>  AIC:               </th> <td>7.987e+04</td>\n</tr>\n<tr>\n  <th>Df Residuals:</th>          <td>  9566</td>      <th>  BIC:               </th> <td>7.988e+04</td>\n</tr>\n<tr>\n  <th>Df Model:</th>              <td>     1</td>      <th>                     </th>     <td> </td>    \n</tr>\n<tr>\n  <th>Covariance Type:</th>      <td>nonrobust</td>    <th>                     </th>     <td> </td>    \n</tr>\n</table>\n<table class=\"simpletable\">\n<tr>\n      <td></td>         <th>coef</th>     <th>std err</th>      <th>t</th>      <th>P>|t|</th>  <th>[0.025</th>    <th>0.975]</th>  \n</tr>\n<tr>\n  <th>Intercept</th> <td>  420.9618</td> <td>    0.823</td> <td>  511.676</td> <td> 0.000</td> <td>  419.349</td> <td>  422.574</td>\n</tr>\n<tr>\n  <th>RH</th>        <td>    0.4557</td> <td>    0.011</td> <td>   41.399</td> <td> 0.000</td> <td>    0.434</td> <td>    0.477</td>\n</tr>\n</table>\n<table class=\"simpletable\">\n<tr>\n  <th>Omnibus:</th>       <td>772.278</td> <th>  Durbin-Watson:     </th> <td>   1.998</td>\n</tr>\n<tr>\n  <th>Prob(Omnibus):</th> <td> 0.000</td>  <th>  Jarque-Bera (JB):  </th> <td> 319.245</td>\n</tr>\n<tr>\n  <th>Skew:</th>          <td> 0.231</td>  <th>  Prob(JB):          </th> <td>4.75e-70</td>\n</tr>\n<tr>\n  <th>Kurtosis:</th>      <td> 2.234</td>  <th>  Cond. No.          </th> <td>    383.</td>\n</tr>\n</table><br/><br/>Notes:<br/>[1] Standard Errors assume that the covariance matrix of the errors is correctly specified."
     },
     "execution_count": 12,
     "metadata": {},
     "output_type": "execute_result"
    }
   ],
   "source": [
    "# simple linear regression\n",
    "model = smf.ols('PE~RH', df).fit()\n",
    "# getting intercept parameters\n",
    "b0 = model.params[0]\n",
    "b1 = model.params[1]\n",
    "print(\"Coefficient : [ B0 = {}, B1 = {}]\".format(b0, b1))\n",
    "model.summary()"
   ]
  },
  {
   "cell_type": "code",
   "execution_count": 13,
   "metadata": {
    "collapsed": false,
    "jupyter": {
     "outputs_hidden": false
    },
    "pycharm": {
     "name": "#%%\n"
    }
   },
   "outputs": [
    {
     "data": {
      "text/plain": "[<matplotlib.lines.Line2D at 0x7fbe905e5040>,\n <matplotlib.lines.Line2D at 0x7fbe905e5100>]"
     },
     "execution_count": 13,
     "metadata": {},
     "output_type": "execute_result"
    },
    {
     "data": {
      "text/plain": "<Figure size 432x288 with 1 Axes>",
      "image/png": "[encoded data removed]"
     },
     "metadata": {
      "needs_background": "light"
     },
     "output_type": "display_data"
    }
   ],
   "source": [
    "# rh vs pe\n",
    "x = np.array(df.RH)\n",
    "y = np.array(df.PE)\n",
    "plt.plot(x, y, 'o')\n",
    "coef = np.polyfit(x, y, 1)\n",
    "poly1d_fn = np.poly1d(coef)\n",
    "\n",
    "plt.plot(x,y, 'yo', x, poly1d_fn(x))"
   ]
  },
  {
   "cell_type": "markdown",
   "metadata": {
    "collapsed": false,
    "jupyter": {
     "outputs_hidden": false
    },
    "pycharm": {
     "name": "#%% md\n"
    }
   },
   "source": [
    "(d) Fit a multiple regression model to predict the response using all of the predictors.\n",
    "Describe your results. For which predictors can we reject the null hypothesis\n",
    "H0 : Bj = 0?"
   ]
  },
  {
   "cell_type": "code",
   "execution_count": 14,
   "metadata": {
    "pycharm": {
     "name": "#%%\n"
    }
   },
   "outputs": [],
   "source": [
    "# multi linear regression\n",
    "model = smf.ols('PE~AT+V+AP+RH', df).fit()"
   ]
  },
  {
   "cell_type": "code",
   "execution_count": 15,
   "metadata": {
    "pycharm": {
     "name": "#%%\n"
    }
   },
   "outputs": [
    {
     "data": {
      "text/plain": "<class 'statsmodels.iolib.summary.Summary'>\n\"\"\"\n                            OLS Regression Results                            \n==============================================================================\nDep. Variable:                     PE   R-squared:                       0.929\nModel:                            OLS   Adj. R-squared:                  0.929\nMethod:                 Least Squares   F-statistic:                 3.114e+04\nDate:                Fri, 11 Feb 2022   Prob (F-statistic):               0.00\nTime:                        23:21:33   Log-Likelihood:                -28088.\nNo. Observations:                9568   AIC:                         5.619e+04\nDf Residuals:                    9563   BIC:                         5.622e+04\nDf Model:                           4                                         \nCovariance Type:            nonrobust                                         \n==============================================================================\n                 coef    std err          t      P>|t|      [0.025      0.975]\n------------------------------------------------------------------------------\nIntercept    454.6093      9.749     46.634      0.000     435.500     473.718\nAT            -1.9775      0.015   -129.342      0.000      -2.007      -1.948\nV             -0.2339      0.007    -32.122      0.000      -0.248      -0.220\nAP             0.0621      0.009      6.564      0.000       0.044       0.081\nRH            -0.1581      0.004    -37.918      0.000      -0.166      -0.150\n==============================================================================\nOmnibus:                      892.002   Durbin-Watson:                   2.033\nProb(Omnibus):                  0.000   Jarque-Bera (JB):             4086.777\nSkew:                          -0.352   Prob(JB):                         0.00\nKurtosis:                       6.123   Cond. No.                     2.13e+05\n==============================================================================\n\nNotes:\n[1] Standard Errors assume that the covariance matrix of the errors is correctly specified.\n[2] The condition number is large, 2.13e+05. This might indicate that there are\nstrong multicollinearity or other numerical problems.\n\"\"\"",
      "text/html": "<table class=\"simpletable\">\n<caption>OLS Regression Results</caption>\n<tr>\n  <th>Dep. Variable:</th>           <td>PE</td>        <th>  R-squared:         </th> <td>   0.929</td> \n</tr>\n<tr>\n  <th>Model:</th>                   <td>OLS</td>       <th>  Adj. R-squared:    </th> <td>   0.929</td> \n</tr>\n<tr>\n  <th>Method:</th>             <td>Least Squares</td>  <th>  F-statistic:       </th> <td>3.114e+04</td>\n</tr>\n<tr>\n  <th>Date:</th>             <td>Fri, 11 Feb 2022</td> <th>  Prob (F-statistic):</th>  <td>  0.00</td>  \n</tr>\n<tr>\n  <th>Time:</th>                 <td>23:21:33</td>     <th>  Log-Likelihood:    </th> <td> -28088.</td> \n</tr>\n<tr>\n  <th>No. Observations:</th>      <td>  9568</td>      <th>  AIC:               </th> <td>5.619e+04</td>\n</tr>\n<tr>\n  <th>Df Residuals:</th>          <td>  9563</td>      <th>  BIC:               </th> <td>5.622e+04</td>\n</tr>\n<tr>\n  <th>Df Model:</th>              <td>     4</td>      <th>                     </th>     <td> </td>    \n</tr>\n<tr>\n  <th>Covariance Type:</th>      <td>nonrobust</td>    <th>                     </th>     <td> </td>    \n</tr>\n</table>\n<table class=\"simpletable\">\n<tr>\n      <td></td>         <th>coef</th>     <th>std err</th>      <th>t</th>      <th>P>|t|</th>  <th>[0.025</th>    <th>0.975]</th>  \n</tr>\n<tr>\n  <th>Intercept</th> <td>  454.6093</td> <td>    9.749</td> <td>   46.634</td> <td> 0.000</td> <td>  435.500</td> <td>  473.718</td>\n</tr>\n<tr>\n  <th>AT</th>        <td>   -1.9775</td> <td>    0.015</td> <td> -129.342</td> <td> 0.000</td> <td>   -2.007</td> <td>   -1.948</td>\n</tr>\n<tr>\n  <th>V</th>         <td>   -0.2339</td> <td>    0.007</td> <td>  -32.122</td> <td> 0.000</td> <td>   -0.248</td> <td>   -0.220</td>\n</tr>\n<tr>\n  <th>AP</th>        <td>    0.0621</td> <td>    0.009</td> <td>    6.564</td> <td> 0.000</td> <td>    0.044</td> <td>    0.081</td>\n</tr>\n<tr>\n  <th>RH</th>        <td>   -0.1581</td> <td>    0.004</td> <td>  -37.918</td> <td> 0.000</td> <td>   -0.166</td> <td>   -0.150</td>\n</tr>\n</table>\n<table class=\"simpletable\">\n<tr>\n  <th>Omnibus:</th>       <td>892.002</td> <th>  Durbin-Watson:     </th> <td>   2.033</td>\n</tr>\n<tr>\n  <th>Prob(Omnibus):</th> <td> 0.000</td>  <th>  Jarque-Bera (JB):  </th> <td>4086.777</td>\n</tr>\n<tr>\n  <th>Skew:</th>          <td>-0.352</td>  <th>  Prob(JB):          </th> <td>    0.00</td>\n</tr>\n<tr>\n  <th>Kurtosis:</th>      <td> 6.123</td>  <th>  Cond. No.          </th> <td>2.13e+05</td>\n</tr>\n</table><br/><br/>Notes:<br/>[1] Standard Errors assume that the covariance matrix of the errors is correctly specified.<br/>[2] The condition number is large, 2.13e+05. This might indicate that there are<br/>strong multicollinearity or other numerical problems."
     },
     "execution_count": 15,
     "metadata": {},
     "output_type": "execute_result"
    }
   ],
   "source": [
    "model.summary()"
   ]
  },
  {
   "cell_type": "markdown",
   "metadata": {
    "collapsed": false,
    "jupyter": {
     "outputs_hidden": false
    },
    "pycharm": {
     "name": "#%% md\n"
    }
   },
   "source": []
  },
  {
   "cell_type": "markdown",
   "metadata": {
    "collapsed": false,
    "jupyter": {
     "outputs_hidden": false
    },
    "pycharm": {
     "name": "#%% md\n"
    }
   },
   "source": [
    "(e) How do your results from 1c compare to your results from 1d? Create a plot\n",
    "displaying the uni-variate regression coefficient from 1c on the x-axis, and the\n",
    "multiple regression coefficient from 1d on the y-axis. That is, each predictor is\n",
    "displayed as a single point in the plot. Its coefficient in a simple linear regression\n",
    "model is shown on the x-axis, and its coefficient estimate in the multiple linear\n",
    "regression model is shown on the y-axis."
   ]
  },
  {
   "cell_type": "code",
   "execution_count": 16,
   "outputs": [
    {
     "data": {
      "text/plain": "<Figure size 432x288 with 1 Axes>",
      "image/png": "[encoded data removed]"
     },
     "metadata": {
      "needs_background": "light"
     },
     "output_type": "display_data"
    }
   ],
   "source": [
    "uni_var_coefficient = [-2.173, -1.1681, 1.4899, 0.4557]\n",
    "multi_regress_coeff = [-1.9775, -0.2339, 0.0621, -0.1581]\n",
    "plt.plot(uni_var_coefficient, multi_regress_coeff)\n",
    "plt.xlabel('uni-variate regression coefficient')\n",
    "plt.ylabel('multiple regression coefficient')\n",
    "plt.show()"
   ],
   "metadata": {
    "collapsed": false,
    "pycharm": {
     "name": "#%%\n"
    }
   }
  },
  {
   "cell_type": "markdown",
   "source": [
    "(f) Is there evidence of nonlinear association between any of the predictors and the\n",
    "response? To answer this question, for each predictor X, fit a model of the form2\n",
    "Y = B0 + B1.X + B2.X^2 +   B3.X^3 + E"
   ],
   "metadata": {
    "collapsed": false,
    "pycharm": {
     "name": "#%% md\n"
    }
   }
  },
  {
   "cell_type": "code",
   "execution_count": 17,
   "metadata": {
    "pycharm": {
     "name": "#%%\n"
    }
   },
   "outputs": [
    {
     "data": {
      "text/plain": "<Figure size 432x288 with 1 Axes>",
      "image/png": "[encoded data removed]"
     },
     "metadata": {
      "needs_background": "light"
     },
     "output_type": "display_data"
    }
   ],
   "source": [
    "# Polynomial Regression\n",
    "df2 = pd.DataFrame()\n",
    "df2['AT'], df2['PE'] = df.AT, df.PE\n",
    "\n",
    "X_train, X_test, y_train, y_test = train_test_split(df2.AT, df2.PE)\n",
    "\n",
    "X_train_df, X_test_df = pd.DataFrame(X_train), pd.DataFrame(X_test)\n",
    "\n",
    "poly = PolynomialFeatures(degree=3)\n",
    "X_train_poly, X_test_poly = poly.fit_transform(X_train_df), poly.fit_transform(X_test_df)\n",
    "\n",
    "model = linear_model.LinearRegression()\n",
    "model = model.fit(X_train_poly, y_train)\n",
    "coefficient = model.coef_\n",
    "intercept = model.intercept_\n",
    "\n",
    "plt.scatter(df.AT, df.PE, color=\"b\")\n",
    "\n",
    "x_axis = np.arange(2, 37, 0.1)\n",
    "response = intercept + coefficient[1] * x_axis + coefficient[2] * x_axis**2 + coefficient[3] * x_axis**3\n",
    "\n",
    "plt.scatter(x_axis, response, color='r')\n",
    "plt.show()"
   ]
  },
  {
   "cell_type": "code",
   "execution_count": 18,
   "metadata": {
    "pycharm": {
     "name": "#%%\n"
    }
   },
   "outputs": [
    {
     "data": {
      "text/plain": "0.9031399993991943"
     },
     "execution_count": 18,
     "metadata": {},
     "output_type": "execute_result"
    }
   ],
   "source": [
    "prediction = model.predict(X_test_poly)\n",
    "r2_score(prediction, y_test)"
   ]
  },
  {
   "cell_type": "code",
   "execution_count": 19,
   "metadata": {
    "pycharm": {
     "name": "#%%\n"
    }
   },
   "outputs": [
    {
     "data": {
      "text/plain": "<Figure size 432x288 with 1 Axes>",
      "image/png": "[encoded data removed]"
     },
     "metadata": {
      "needs_background": "light"
     },
     "output_type": "display_data"
    },
    {
     "name": "stdout",
     "output_type": "stream",
     "text": [
      "R^2 =  0.9030699952008159\n"
     ]
    }
   ],
   "source": [
    "# Polynomial Regression\n",
    "df2 = pd.DataFrame()\n",
    "df2['AT'], df2['PE'] = df.AT, df.PE\n",
    "\n",
    "X_train, X_test, y_train, y_test = train_test_split(df2.AT, df2.PE)\n",
    "\n",
    "X_train_df, X_test_df = pd.DataFrame(X_train), pd.DataFrame(X_test)\n",
    "\n",
    "poly = PolynomialFeatures(degree=3)\n",
    "X_train_poly, X_test_poly = poly.fit_transform(X_train_df), poly.fit_transform(X_test_df)\n",
    "\n",
    "model = linear_model.LinearRegression()\n",
    "model = model.fit(X_train_poly, y_train)\n",
    "coefficient = model.coef_\n",
    "intercept = model.intercept_\n",
    "\n",
    "plt.scatter(df.AT, df.PE, color=\"b\")\n",
    "\n",
    "x_axis = np.arange(2, 37, 0.1)\n",
    "response = intercept + coefficient[1] * x_axis + coefficient[2] * x_axis ** 2 + coefficient[3] * x_axis ** 3\n",
    "\n",
    "plt.scatter(x_axis, response, color='r')\n",
    "plt.show()\n",
    "\n",
    "prediction = model.predict(X_test_poly)\n",
    "print(\"R^2 = \", r2_score(prediction, y_test))"
   ]
  },
  {
   "cell_type": "code",
   "execution_count": 20,
   "outputs": [
    {
     "data": {
      "text/plain": "<Figure size 432x288 with 1 Axes>",
      "image/png": "[encoded data removed]"
     },
     "metadata": {
      "needs_background": "light"
     },
     "output_type": "display_data"
    },
    {
     "name": "stdout",
     "output_type": "stream",
     "text": [
      "R^2 =  0.7042613962462998\n"
     ]
    }
   ],
   "source": [
    "df2 = pd.DataFrame()\n",
    "df2['V'], df2['PE'] = df.V, df.PE\n",
    "\n",
    "X_train, X_test, y_train, y_test = train_test_split(df2.V, df2.PE)\n",
    "\n",
    "X_train_df, X_test_df = pd.DataFrame(X_train), pd.DataFrame(X_test)\n",
    "\n",
    "poly = PolynomialFeatures(degree=3)\n",
    "X_train_poly, X_test_poly = poly.fit_transform(X_train_df), poly.fit_transform(X_test_df)\n",
    "\n",
    "model = linear_model.LinearRegression()\n",
    "model = model.fit(X_train_poly, y_train)\n",
    "coefficient = model.coef_\n",
    "intercept = model.intercept_\n",
    "\n",
    "plt.scatter(df.V, df.PE, color=\"b\")\n",
    "\n",
    "x_axis = np.arange(25, 80, 0.1)\n",
    "response = intercept + coefficient[1] * x_axis + coefficient[2] * x_axis ** 2 + coefficient[3] * x_axis ** 3\n",
    "\n",
    "plt.scatter(x_axis, response, color='r')\n",
    "plt.show()\n",
    "\n",
    "prediction = model.predict(X_test_poly)\n",
    "print(\"R^2 = \", r2_score(prediction, y_test))"
   ],
   "metadata": {
    "collapsed": false,
    "pycharm": {
     "name": "#%%\n"
    }
   }
  },
  {
   "cell_type": "code",
   "execution_count": 21,
   "outputs": [
    {
     "data": {
      "text/plain": "<Figure size 432x288 with 1 Axes>",
      "image/png": "[encoded data removed]"
     },
     "metadata": {
      "needs_background": "light"
     },
     "output_type": "display_data"
    },
    {
     "name": "stdout",
     "output_type": "stream",
     "text": [
      "R^2 =  -1.4752043443820697\n"
     ]
    }
   ],
   "source": [
    "df2 = pd.DataFrame()\n",
    "df2['AP'], df2['PE'] = df.AP, df.PE\n",
    "\n",
    "X_train, X_test, y_train, y_test = train_test_split(df2.AP, df2.PE)\n",
    "\n",
    "X_train_df, X_test_df = pd.DataFrame(X_train), pd.DataFrame(X_test)\n",
    "\n",
    "poly = PolynomialFeatures(degree=3)\n",
    "X_train_poly, X_test_poly = poly.fit_transform(X_train_df), poly.fit_transform(X_test_df)\n",
    "\n",
    "model = linear_model.LinearRegression()\n",
    "model = model.fit(X_train_poly, y_train)\n",
    "coefficient = model.coef_\n",
    "intercept = model.intercept_\n",
    "\n",
    "plt.scatter(df.AP, df.PE, color=\"b\")\n",
    "\n",
    "x_axis = np.arange(900, 1050, 10)\n",
    "response = intercept + coefficient[1] * x_axis + coefficient[2] * x_axis ** 2 + coefficient[3] * x_axis ** 3\n",
    "\n",
    "plt.scatter(x_axis, response, color='r')\n",
    "plt.show()\n",
    "\n",
    "prediction = model.predict(X_test_poly)\n",
    "print(\"R^2 = \", r2_score(prediction, y_test))"
   ],
   "metadata": {
    "collapsed": false,
    "pycharm": {
     "name": "#%%\n"
    }
   }
  },
  {
   "cell_type": "code",
   "execution_count": 22,
   "outputs": [
    {
     "data": {
      "text/plain": "<Figure size 432x288 with 1 Axes>",
      "image/png": "[encoded data removed]"
     },
     "metadata": {
      "needs_background": "light"
     },
     "output_type": "display_data"
    },
    {
     "name": "stdout",
     "output_type": "stream",
     "text": [
      "R^2 =  -4.359300718729684\n"
     ]
    }
   ],
   "source": [
    "df2 = pd.DataFrame()\n",
    "df2['RH'], df2['PE'] = df.RH, df.PE\n",
    "\n",
    "X_train, X_test, y_train, y_test = train_test_split(df2.RH, df2.PE)\n",
    "\n",
    "X_train_df, X_test_df = pd.DataFrame(X_train), pd.DataFrame(X_test)\n",
    "\n",
    "poly = PolynomialFeatures(degree=3)\n",
    "X_train_poly, X_test_poly = poly.fit_transform(X_train_df), poly.fit_transform(X_test_df)\n",
    "\n",
    "model = linear_model.LinearRegression()\n",
    "model = model.fit(X_train_poly, y_train)\n",
    "coefficient = model.coef_\n",
    "intercept = model.intercept_\n",
    "\n",
    "plt.scatter(df.RH, df.PE, color=\"b\")\n",
    "\n",
    "x_axis = np.arange(30, 100, 0.1)\n",
    "response = intercept + coefficient[1] * x_axis + coefficient[2] * x_axis ** 2 + coefficient[3] * x_axis ** 3\n",
    "\n",
    "plt.scatter(x_axis, response, color='r')\n",
    "plt.show()\n",
    "\n",
    "prediction = model.predict(X_test_poly)\n",
    "print(\"R^2 = \", r2_score(prediction, y_test))"
   ],
   "metadata": {
    "collapsed": false,
    "pycharm": {
     "name": "#%%\n"
    }
   }
  },
  {
   "cell_type": "code",
   "execution_count": 22,
   "outputs": [],
   "source": [],
   "metadata": {
    "collapsed": false,
    "pycharm": {
     "name": "#%%\n"
    }
   }
  },
  {
   "cell_type": "markdown",
   "metadata": {
    "pycharm": {
     "name": "#%% md\n"
    }
   },
   "source": [
    "(g) Is there evidence of association of interactions of predictors with the response? To\n",
    "answer this question, run a full linear regression model with all pairwise interaction\n",
    "terms and state whether any interaction terms are statistically significant."
   ]
  },
  {
   "cell_type": "code",
   "execution_count": 23,
   "outputs": [],
   "source": [
    "model = smf.ols('PE~AT + V + AP + RH + (AT*V) + (AT*AP) + (AT*RH) + (V*AP) + (V*RH) + (AP*RH)', df).fit()"
   ],
   "metadata": {
    "collapsed": false,
    "pycharm": {
     "name": "#%%\n"
    }
   }
  },
  {
   "cell_type": "code",
   "execution_count": 24,
   "outputs": [
    {
     "data": {
      "text/plain": "<class 'statsmodels.iolib.summary.Summary'>\n\"\"\"\n                            OLS Regression Results                            \n==============================================================================\nDep. Variable:                     PE   R-squared:                       0.936\nModel:                            OLS   Adj. R-squared:                  0.936\nMethod:                 Least Squares   F-statistic:                 1.405e+04\nDate:                Fri, 11 Feb 2022   Prob (F-statistic):               0.00\nTime:                        23:21:34   Log-Likelihood:                -27548.\nNo. Observations:                9568   AIC:                         5.512e+04\nDf Residuals:                    9557   BIC:                         5.520e+04\nDf Model:                          10                                         \nCovariance Type:            nonrobust                                         \n==============================================================================\n                 coef    std err          t      P>|t|      [0.025      0.975]\n------------------------------------------------------------------------------\nIntercept    685.7825     78.640      8.721      0.000     531.631     839.934\nAT            -4.3470      2.373     -1.832      0.067      -8.999       0.305\nV             -7.6749      1.351     -5.682      0.000     -10.323      -5.027\nAP            -0.1524      0.077     -1.983      0.047      -0.303      -0.002\nRH             1.5709      0.773      2.031      0.042       0.055       3.087\nAT:V           0.0210      0.001     23.338      0.000       0.019       0.023\nAT:AP          0.0018      0.002      0.752      0.452      -0.003       0.006\nAT:RH         -0.0052      0.001     -6.444      0.000      -0.007      -0.004\nV:AP           0.0068      0.001      5.135      0.000       0.004       0.009\nV:RH           0.0008      0.000      1.716      0.086      -0.000       0.002\nAP:RH         -0.0016      0.001     -2.125      0.034      -0.003      -0.000\n==============================================================================\nOmnibus:                     1454.609   Durbin-Watson:                   2.030\nProb(Omnibus):                  0.000   Jarque-Bera (JB):             9170.848\nSkew:                          -0.574   Prob(JB):                         0.00\nKurtosis:                       7.657   Cond. No.                     1.70e+08\n==============================================================================\n\nNotes:\n[1] Standard Errors assume that the covariance matrix of the errors is correctly specified.\n[2] The condition number is large, 1.7e+08. This might indicate that there are\nstrong multicollinearity or other numerical problems.\n\"\"\"",
      "text/html": "<table class=\"simpletable\">\n<caption>OLS Regression Results</caption>\n<tr>\n  <th>Dep. Variable:</th>           <td>PE</td>        <th>  R-squared:         </th> <td>   0.936</td> \n</tr>\n<tr>\n  <th>Model:</th>                   <td>OLS</td>       <th>  Adj. R-squared:    </th> <td>   0.936</td> \n</tr>\n<tr>\n  <th>Method:</th>             <td>Least Squares</td>  <th>  F-statistic:       </th> <td>1.405e+04</td>\n</tr>\n<tr>\n  <th>Date:</th>             <td>Fri, 11 Feb 2022</td> <th>  Prob (F-statistic):</th>  <td>  0.00</td>  \n</tr>\n<tr>\n  <th>Time:</th>                 <td>23:21:34</td>     <th>  Log-Likelihood:    </th> <td> -27548.</td> \n</tr>\n<tr>\n  <th>No. Observations:</th>      <td>  9568</td>      <th>  AIC:               </th> <td>5.512e+04</td>\n</tr>\n<tr>\n  <th>Df Residuals:</th>          <td>  9557</td>      <th>  BIC:               </th> <td>5.520e+04</td>\n</tr>\n<tr>\n  <th>Df Model:</th>              <td>    10</td>      <th>                     </th>     <td> </td>    \n</tr>\n<tr>\n  <th>Covariance Type:</th>      <td>nonrobust</td>    <th>                     </th>     <td> </td>    \n</tr>\n</table>\n<table class=\"simpletable\">\n<tr>\n      <td></td>         <th>coef</th>     <th>std err</th>      <th>t</th>      <th>P>|t|</th>  <th>[0.025</th>    <th>0.975]</th>  \n</tr>\n<tr>\n  <th>Intercept</th> <td>  685.7825</td> <td>   78.640</td> <td>    8.721</td> <td> 0.000</td> <td>  531.631</td> <td>  839.934</td>\n</tr>\n<tr>\n  <th>AT</th>        <td>   -4.3470</td> <td>    2.373</td> <td>   -1.832</td> <td> 0.067</td> <td>   -8.999</td> <td>    0.305</td>\n</tr>\n<tr>\n  <th>V</th>         <td>   -7.6749</td> <td>    1.351</td> <td>   -5.682</td> <td> 0.000</td> <td>  -10.323</td> <td>   -5.027</td>\n</tr>\n<tr>\n  <th>AP</th>        <td>   -0.1524</td> <td>    0.077</td> <td>   -1.983</td> <td> 0.047</td> <td>   -0.303</td> <td>   -0.002</td>\n</tr>\n<tr>\n  <th>RH</th>        <td>    1.5709</td> <td>    0.773</td> <td>    2.031</td> <td> 0.042</td> <td>    0.055</td> <td>    3.087</td>\n</tr>\n<tr>\n  <th>AT:V</th>      <td>    0.0210</td> <td>    0.001</td> <td>   23.338</td> <td> 0.000</td> <td>    0.019</td> <td>    0.023</td>\n</tr>\n<tr>\n  <th>AT:AP</th>     <td>    0.0018</td> <td>    0.002</td> <td>    0.752</td> <td> 0.452</td> <td>   -0.003</td> <td>    0.006</td>\n</tr>\n<tr>\n  <th>AT:RH</th>     <td>   -0.0052</td> <td>    0.001</td> <td>   -6.444</td> <td> 0.000</td> <td>   -0.007</td> <td>   -0.004</td>\n</tr>\n<tr>\n  <th>V:AP</th>      <td>    0.0068</td> <td>    0.001</td> <td>    5.135</td> <td> 0.000</td> <td>    0.004</td> <td>    0.009</td>\n</tr>\n<tr>\n  <th>V:RH</th>      <td>    0.0008</td> <td>    0.000</td> <td>    1.716</td> <td> 0.086</td> <td>   -0.000</td> <td>    0.002</td>\n</tr>\n<tr>\n  <th>AP:RH</th>     <td>   -0.0016</td> <td>    0.001</td> <td>   -2.125</td> <td> 0.034</td> <td>   -0.003</td> <td>   -0.000</td>\n</tr>\n</table>\n<table class=\"simpletable\">\n<tr>\n  <th>Omnibus:</th>       <td>1454.609</td> <th>  Durbin-Watson:     </th> <td>   2.030</td>\n</tr>\n<tr>\n  <th>Prob(Omnibus):</th>  <td> 0.000</td>  <th>  Jarque-Bera (JB):  </th> <td>9170.848</td>\n</tr>\n<tr>\n  <th>Skew:</th>           <td>-0.574</td>  <th>  Prob(JB):          </th> <td>    0.00</td>\n</tr>\n<tr>\n  <th>Kurtosis:</th>       <td> 7.657</td>  <th>  Cond. No.          </th> <td>1.70e+08</td>\n</tr>\n</table><br/><br/>Notes:<br/>[1] Standard Errors assume that the covariance matrix of the errors is correctly specified.<br/>[2] The condition number is large, 1.7e+08. This might indicate that there are<br/>strong multicollinearity or other numerical problems."
     },
     "execution_count": 24,
     "metadata": {},
     "output_type": "execute_result"
    }
   ],
   "source": [
    "model.summary()"
   ],
   "metadata": {
    "collapsed": false,
    "pycharm": {
     "name": "#%%\n"
    }
   }
  },
  {
   "cell_type": "markdown",
   "source": [
    "(h) Can you improve your model using possible interaction terms or nonlinear associations between the predictors and response? Train the regression model on a randomly selected 70% subset of the data with all predictors. Also, run a regression model involving all possible interaction terms and quadratic non-linearity,\n",
    "and remove insignificant variables using p-values (be careful about interaction\n",
    "terms). Test both models on the remaining points and report your train and test\n",
    "MSEs."
   ],
   "metadata": {
    "collapsed": false,
    "pycharm": {
     "name": "#%% md\n"
    }
   }
  },
  {
   "cell_type": "code",
   "execution_count": 42,
   "outputs": [
    {
     "data": {
      "text/plain": "[         AT      V       AP     RH\n 6699  28.86  73.18  1012.46  68.80\n 8470  20.96  69.48  1011.04  82.63\n 8432  27.23  44.05  1005.69  58.91\n 2198  25.37  66.75  1017.94  79.26\n 2249  31.68  73.68  1014.85  64.00\n ...     ...    ...      ...    ...\n 2895  26.92  62.44  1011.09  70.80\n 7813  20.90  67.71  1007.16  59.02\n 905   18.59  39.54  1008.56  68.61\n 5192  22.96  45.01  1012.21  50.81\n 235   20.50  49.69  1009.60  70.81\n \n [6697 rows x 4 columns]]"
     },
     "execution_count": 42,
     "metadata": {},
     "output_type": "execute_result"
    }
   ],
   "source": [
    "from sklearn.metrics import mean_squared_error, r2_score\n",
    "X = df[['AT', 'V', 'AP', 'RH']]\n",
    "y = df.PE\n",
    "# train , test = train_test_split(df, test_size = 0.3)\n",
    "# # lr = LinearRegression()\n",
    "# # model = lr.fit(train[['AT', 'V', 'AP', 'RH']], train['PE'])\n",
    "X_train, X_test, y_train, y_test = train_test_split(X, y, test_size=0.3, random_state=1)\n",
    "\n",
    "# lr = LinearRegression()\n",
    "# reg = lr.fit([X_train], y_train)\n",
    "#\n",
    "# predictions = reg.predict(y_test)\n",
    "# # model = sm.OLS(y_train, X_train)\n",
    "# # results = model.fit()\n",
    "#\n",
    "# print(\"MSE = \", mean_squared_error(y_test,predictions))\n",
    "# print(\"R squared = \", r2_score(y_test, predictions))\n",
    "[X_train]"
   ],
   "metadata": {
    "collapsed": false,
    "pycharm": {
     "name": "#%%\n"
    }
   }
  },
  {
   "cell_type": "code",
   "execution_count": 25,
   "outputs": [],
   "source": [],
   "metadata": {
    "collapsed": false,
    "pycharm": {
     "name": "#%%\n"
    }
   }
  },
  {
   "cell_type": "code",
   "execution_count": 25,
   "outputs": [],
   "source": [],
   "metadata": {
    "collapsed": false,
    "pycharm": {
     "name": "#%%\n"
    }
   }
  },
  {
   "cell_type": "markdown",
   "source": [
    "(i) KNN Regression:\n",
    "i. Perform k-nearest neighbor regression for this dataset using both normalized\n",
    "and raw features. Find the value of k 2 f1; 2; : : : ; 100g that gives you the\n",
    "best fit. Plot the train and test errors in terms of 1=k."
   ],
   "metadata": {
    "collapsed": false,
    "pycharm": {
     "name": "#%% md\n"
    }
   }
  },
  {
   "cell_type": "code",
   "execution_count": 26,
   "outputs": [],
   "source": [
    "# KNN Regression using normalized"
   ],
   "metadata": {
    "collapsed": false,
    "pycharm": {
     "name": "#%%\n"
    }
   }
  },
  {
   "cell_type": "code",
   "execution_count": 44,
   "outputs": [],
   "source": [
    "from sklearn.neighbors import KNeighborsRegressor\n",
    "from sklearn.model_selection import cross_val_predict\n",
    "from sklearn import preprocessing\n",
    "X = df[['AT', 'V', 'AP', 'RH']]\n",
    "y = df.PE\n",
    "X_train, X_test, y_train, y_test = train_test_split(X, y, test_size=0.3, random_state=1)\n",
    "X_train = preprocessing.normalize(X_train)\n",
    "X_test = preprocessing.normalize(X_test)\n",
    "knn = KNeighborsRegressor(n_neighbors=10)\n",
    "y_pred = cross_val_predict(knn, X, y, cv=5)"
   ],
   "metadata": {
    "collapsed": false,
    "pycharm": {
     "name": "#%%\n"
    }
   }
  },
  {
   "cell_type": "code",
   "execution_count": 45,
   "outputs": [
    {
     "name": "stdout",
     "output_type": "stream",
     "text": [
      "MSE =  16.199925614025922\n",
      "R^2 =  0.944378295873567\n"
     ]
    }
   ],
   "source": [
    "from sklearn.metrics import mean_squared_error, r2_score\n",
    "print(\"MSE = \", mean_squared_error(y,y_pred))\n",
    "print(\"R^2 = \", r2_score(y,y_pred))"
   ],
   "metadata": {
    "collapsed": false,
    "pycharm": {
     "name": "#%%\n"
    }
   }
  },
  {
   "cell_type": "code",
   "execution_count": 46,
   "outputs": [
    {
     "name": "stdout",
     "output_type": "stream",
     "text": [
      "Min k =  5\n"
     ]
    }
   ],
   "source": [
    "error = []\n",
    "min_error = float(\"inf\")\n",
    "min_k = 0\n",
    "for k in range(1,100):\n",
    "    knn = KNeighborsRegressor(n_neighbors=k)\n",
    "    y_pred = cross_val_predict(knn, X, y, cv=5)\n",
    "    curr_error = mean_squared_error(y,y_pred)\n",
    "    error.append(curr_error)\n",
    "    if curr_error < min_error:\n",
    "        min_error = curr_error\n",
    "        min_k = k\n",
    "\n",
    "print(\"Min k = \", min_k)"
   ],
   "metadata": {
    "collapsed": false,
    "pycharm": {
     "name": "#%%\n"
    }
   }
  },
  {
   "cell_type": "code",
   "execution_count": 47,
   "outputs": [
    {
     "data": {
      "text/plain": "[<matplotlib.lines.Line2D at 0x7fbea4d6c580>]"
     },
     "execution_count": 47,
     "metadata": {},
     "output_type": "execute_result"
    },
    {
     "data": {
      "text/plain": "<Figure size 432x288 with 1 Axes>",
      "image/png": "[encoded data removed]"
     },
     "metadata": {
      "needs_background": "light"
     },
     "output_type": "display_data"
    }
   ],
   "source": [
    "plt.plot([1/k for k in range(1,100)], error)"
   ],
   "metadata": {
    "collapsed": false,
    "pycharm": {
     "name": "#%%\n"
    }
   }
  },
  {
   "cell_type": "code",
   "execution_count": 59,
   "metadata": {
    "pycharm": {
     "name": "#%%\n"
    }
   },
   "outputs": [
    {
     "name": "stdout",
     "output_type": "stream",
     "text": [
      "5\n",
      "MSE =  15.726819842563568\n"
     ]
    },
    {
     "ename": "ValueError",
     "evalue": "x and y must have same first dimension, but have shapes (99,) and (1,)",
     "output_type": "error",
     "traceback": [
      "\u001B[0;31m---------------------------------------------------------------------------\u001B[0m",
      "\u001B[0;31mValueError\u001B[0m                                Traceback (most recent call last)",
      "\u001B[0;32m/var/folders/d4/z26vchln4t53qq3kkmv6_cg40000gn/T/ipykernel_54699/2009852701.py\u001B[0m in \u001B[0;36m<module>\u001B[0;34m\u001B[0m\n\u001B[1;32m     29\u001B[0m \u001B[0mprint\u001B[0m\u001B[0;34m(\u001B[0m\u001B[0mmin_k\u001B[0m\u001B[0;34m)\u001B[0m\u001B[0;34m\u001B[0m\u001B[0;34m\u001B[0m\u001B[0m\n\u001B[1;32m     30\u001B[0m \u001B[0mprint\u001B[0m\u001B[0;34m(\u001B[0m\u001B[0;34m\"MSE = \"\u001B[0m\u001B[0;34m,\u001B[0m \u001B[0mcurr_error\u001B[0m\u001B[0;34m)\u001B[0m\u001B[0;34m\u001B[0m\u001B[0;34m\u001B[0m\u001B[0m\n\u001B[0;32m---> 31\u001B[0;31m \u001B[0mplt\u001B[0m\u001B[0;34m.\u001B[0m\u001B[0mplot\u001B[0m\u001B[0;34m(\u001B[0m\u001B[0;34m[\u001B[0m\u001B[0;36m1\u001B[0m \u001B[0;34m/\u001B[0m \u001B[0mk\u001B[0m \u001B[0;32mfor\u001B[0m \u001B[0mk\u001B[0m \u001B[0;32min\u001B[0m \u001B[0mrange\u001B[0m\u001B[0;34m(\u001B[0m\u001B[0;36m1\u001B[0m\u001B[0;34m,\u001B[0m \u001B[0;36m100\u001B[0m\u001B[0;34m)\u001B[0m\u001B[0;34m]\u001B[0m\u001B[0;34m,\u001B[0m \u001B[0mcurr_error\u001B[0m\u001B[0;34m)\u001B[0m\u001B[0;34m\u001B[0m\u001B[0;34m\u001B[0m\u001B[0m\n\u001B[0m",
      "\u001B[0;32m~/opt/anaconda3/lib/python3.9/site-packages/matplotlib/pyplot.py\u001B[0m in \u001B[0;36mplot\u001B[0;34m(scalex, scaley, data, *args, **kwargs)\u001B[0m\n\u001B[1;32m   3017\u001B[0m \u001B[0;34m@\u001B[0m\u001B[0m_copy_docstring_and_deprecators\u001B[0m\u001B[0;34m(\u001B[0m\u001B[0mAxes\u001B[0m\u001B[0;34m.\u001B[0m\u001B[0mplot\u001B[0m\u001B[0;34m)\u001B[0m\u001B[0;34m\u001B[0m\u001B[0;34m\u001B[0m\u001B[0m\n\u001B[1;32m   3018\u001B[0m \u001B[0;32mdef\u001B[0m \u001B[0mplot\u001B[0m\u001B[0;34m(\u001B[0m\u001B[0;34m*\u001B[0m\u001B[0margs\u001B[0m\u001B[0;34m,\u001B[0m \u001B[0mscalex\u001B[0m\u001B[0;34m=\u001B[0m\u001B[0;32mTrue\u001B[0m\u001B[0;34m,\u001B[0m \u001B[0mscaley\u001B[0m\u001B[0;34m=\u001B[0m\u001B[0;32mTrue\u001B[0m\u001B[0;34m,\u001B[0m \u001B[0mdata\u001B[0m\u001B[0;34m=\u001B[0m\u001B[0;32mNone\u001B[0m\u001B[0;34m,\u001B[0m \u001B[0;34m**\u001B[0m\u001B[0mkwargs\u001B[0m\u001B[0;34m)\u001B[0m\u001B[0;34m:\u001B[0m\u001B[0;34m\u001B[0m\u001B[0;34m\u001B[0m\u001B[0m\n\u001B[0;32m-> 3019\u001B[0;31m     return gca().plot(\n\u001B[0m\u001B[1;32m   3020\u001B[0m         \u001B[0;34m*\u001B[0m\u001B[0margs\u001B[0m\u001B[0;34m,\u001B[0m \u001B[0mscalex\u001B[0m\u001B[0;34m=\u001B[0m\u001B[0mscalex\u001B[0m\u001B[0;34m,\u001B[0m \u001B[0mscaley\u001B[0m\u001B[0;34m=\u001B[0m\u001B[0mscaley\u001B[0m\u001B[0;34m,\u001B[0m\u001B[0;34m\u001B[0m\u001B[0;34m\u001B[0m\u001B[0m\n\u001B[1;32m   3021\u001B[0m         **({\"data\": data} if data is not None else {}), **kwargs)\n",
      "\u001B[0;32m~/opt/anaconda3/lib/python3.9/site-packages/matplotlib/axes/_axes.py\u001B[0m in \u001B[0;36mplot\u001B[0;34m(self, scalex, scaley, data, *args, **kwargs)\u001B[0m\n\u001B[1;32m   1603\u001B[0m         \"\"\"\n\u001B[1;32m   1604\u001B[0m         \u001B[0mkwargs\u001B[0m \u001B[0;34m=\u001B[0m \u001B[0mcbook\u001B[0m\u001B[0;34m.\u001B[0m\u001B[0mnormalize_kwargs\u001B[0m\u001B[0;34m(\u001B[0m\u001B[0mkwargs\u001B[0m\u001B[0;34m,\u001B[0m \u001B[0mmlines\u001B[0m\u001B[0;34m.\u001B[0m\u001B[0mLine2D\u001B[0m\u001B[0;34m)\u001B[0m\u001B[0;34m\u001B[0m\u001B[0;34m\u001B[0m\u001B[0m\n\u001B[0;32m-> 1605\u001B[0;31m         \u001B[0mlines\u001B[0m \u001B[0;34m=\u001B[0m \u001B[0;34m[\u001B[0m\u001B[0;34m*\u001B[0m\u001B[0mself\u001B[0m\u001B[0;34m.\u001B[0m\u001B[0m_get_lines\u001B[0m\u001B[0;34m(\u001B[0m\u001B[0;34m*\u001B[0m\u001B[0margs\u001B[0m\u001B[0;34m,\u001B[0m \u001B[0mdata\u001B[0m\u001B[0;34m=\u001B[0m\u001B[0mdata\u001B[0m\u001B[0;34m,\u001B[0m \u001B[0;34m**\u001B[0m\u001B[0mkwargs\u001B[0m\u001B[0;34m)\u001B[0m\u001B[0;34m]\u001B[0m\u001B[0;34m\u001B[0m\u001B[0;34m\u001B[0m\u001B[0m\n\u001B[0m\u001B[1;32m   1606\u001B[0m         \u001B[0;32mfor\u001B[0m \u001B[0mline\u001B[0m \u001B[0;32min\u001B[0m \u001B[0mlines\u001B[0m\u001B[0;34m:\u001B[0m\u001B[0;34m\u001B[0m\u001B[0;34m\u001B[0m\u001B[0m\n\u001B[1;32m   1607\u001B[0m             \u001B[0mself\u001B[0m\u001B[0;34m.\u001B[0m\u001B[0madd_line\u001B[0m\u001B[0;34m(\u001B[0m\u001B[0mline\u001B[0m\u001B[0;34m)\u001B[0m\u001B[0;34m\u001B[0m\u001B[0;34m\u001B[0m\u001B[0m\n",
      "\u001B[0;32m~/opt/anaconda3/lib/python3.9/site-packages/matplotlib/axes/_base.py\u001B[0m in \u001B[0;36m__call__\u001B[0;34m(self, data, *args, **kwargs)\u001B[0m\n\u001B[1;32m    313\u001B[0m                 \u001B[0mthis\u001B[0m \u001B[0;34m+=\u001B[0m \u001B[0margs\u001B[0m\u001B[0;34m[\u001B[0m\u001B[0;36m0\u001B[0m\u001B[0;34m]\u001B[0m\u001B[0;34m,\u001B[0m\u001B[0;34m\u001B[0m\u001B[0;34m\u001B[0m\u001B[0m\n\u001B[1;32m    314\u001B[0m                 \u001B[0margs\u001B[0m \u001B[0;34m=\u001B[0m \u001B[0margs\u001B[0m\u001B[0;34m[\u001B[0m\u001B[0;36m1\u001B[0m\u001B[0;34m:\u001B[0m\u001B[0;34m]\u001B[0m\u001B[0;34m\u001B[0m\u001B[0;34m\u001B[0m\u001B[0m\n\u001B[0;32m--> 315\u001B[0;31m             \u001B[0;32myield\u001B[0m \u001B[0;32mfrom\u001B[0m \u001B[0mself\u001B[0m\u001B[0;34m.\u001B[0m\u001B[0m_plot_args\u001B[0m\u001B[0;34m(\u001B[0m\u001B[0mthis\u001B[0m\u001B[0;34m,\u001B[0m \u001B[0mkwargs\u001B[0m\u001B[0;34m)\u001B[0m\u001B[0;34m\u001B[0m\u001B[0;34m\u001B[0m\u001B[0m\n\u001B[0m\u001B[1;32m    316\u001B[0m \u001B[0;34m\u001B[0m\u001B[0m\n\u001B[1;32m    317\u001B[0m     \u001B[0;32mdef\u001B[0m \u001B[0mget_next_color\u001B[0m\u001B[0;34m(\u001B[0m\u001B[0mself\u001B[0m\u001B[0;34m)\u001B[0m\u001B[0;34m:\u001B[0m\u001B[0;34m\u001B[0m\u001B[0;34m\u001B[0m\u001B[0m\n",
      "\u001B[0;32m~/opt/anaconda3/lib/python3.9/site-packages/matplotlib/axes/_base.py\u001B[0m in \u001B[0;36m_plot_args\u001B[0;34m(self, tup, kwargs, return_kwargs)\u001B[0m\n\u001B[1;32m    499\u001B[0m \u001B[0;34m\u001B[0m\u001B[0m\n\u001B[1;32m    500\u001B[0m         \u001B[0;32mif\u001B[0m \u001B[0mx\u001B[0m\u001B[0;34m.\u001B[0m\u001B[0mshape\u001B[0m\u001B[0;34m[\u001B[0m\u001B[0;36m0\u001B[0m\u001B[0;34m]\u001B[0m \u001B[0;34m!=\u001B[0m \u001B[0my\u001B[0m\u001B[0;34m.\u001B[0m\u001B[0mshape\u001B[0m\u001B[0;34m[\u001B[0m\u001B[0;36m0\u001B[0m\u001B[0;34m]\u001B[0m\u001B[0;34m:\u001B[0m\u001B[0;34m\u001B[0m\u001B[0;34m\u001B[0m\u001B[0m\n\u001B[0;32m--> 501\u001B[0;31m             raise ValueError(f\"x and y must have same first dimension, but \"\n\u001B[0m\u001B[1;32m    502\u001B[0m                              f\"have shapes {x.shape} and {y.shape}\")\n\u001B[1;32m    503\u001B[0m         \u001B[0;32mif\u001B[0m \u001B[0mx\u001B[0m\u001B[0;34m.\u001B[0m\u001B[0mndim\u001B[0m \u001B[0;34m>\u001B[0m \u001B[0;36m2\u001B[0m \u001B[0;32mor\u001B[0m \u001B[0my\u001B[0m\u001B[0;34m.\u001B[0m\u001B[0mndim\u001B[0m \u001B[0;34m>\u001B[0m \u001B[0;36m2\u001B[0m\u001B[0;34m:\u001B[0m\u001B[0;34m\u001B[0m\u001B[0;34m\u001B[0m\u001B[0m\n",
      "\u001B[0;31mValueError\u001B[0m: x and y must have same first dimension, but have shapes (99,) and (1,)"
     ]
    },
    {
     "data": {
      "text/plain": "<Figure size 432x288 with 1 Axes>",
      "image/png": "[encoded data removed]"
     },
     "metadata": {
      "needs_background": "light"
     },
     "output_type": "display_data"
    }
   ],
   "source": [
    "# KNN Regression using raw data\n",
    "from sklearn.neighbors import KNeighborsRegressor\n",
    "from sklearn.metrics import mean_squared_error\n",
    "\n",
    "X = df[['AT', 'V', 'AP', 'RH']]\n",
    "y = df.PE\n",
    "X_train, X_test, y_train, y_test = train_test_split(X, y, test_size=0.3, random_state=42)\n",
    "\n",
    "knn = KNeighborsRegressor(n_neighbors=10)\n",
    "\n",
    "error = []\n",
    "min_error = float(\"inf\")\n",
    "min_k = 0\n",
    "for k in range(1, 101):\n",
    "    knn = KNeighborsRegressor(n_neighbors=k)\n",
    "    knn.fit(X_train, y_train)\n",
    "    y_pred=knn.predict(X_test)\n",
    "    curr_error = mean_squared_error(y_test, y_pred)\n",
    "    error.append(curr_error)\n",
    "    if curr_error < min_error:\n",
    "        min_error = curr_error\n",
    "        min_k = k\n",
    "\n",
    "knn = KNeighborsRegressor(n_neighbors=min_k)\n",
    "knn.fit(X_train, y_train)\n",
    "y_pred = knn.predict(X_test)\n",
    "curr_error = mean_squared_error(y_test,y_pred)\n",
    "\n",
    "print(min_k)\n",
    "print(\"MSE = \", curr_error)\n",
    "# plt.plot([1 / k for k in range(1, 100)], curr_error)"
   ]
  },
  {
   "cell_type": "code",
   "execution_count": 30,
   "outputs": [],
   "source": [],
   "metadata": {
    "collapsed": false,
    "pycharm": {
     "name": "#%%\n"
    }
   }
  },
  {
   "cell_type": "code",
   "execution_count": 30,
   "outputs": [],
   "source": [],
   "metadata": {
    "collapsed": false,
    "pycharm": {
     "name": "#%%\n"
    }
   }
  },
  {
   "cell_type": "code",
   "execution_count": 30,
   "outputs": [],
   "source": [],
   "metadata": {
    "collapsed": false,
    "pycharm": {
     "name": "#%%\n"
    }
   }
  },
  {
   "cell_type": "code",
   "execution_count": 30,
   "outputs": [],
   "source": [],
   "metadata": {
    "collapsed": false,
    "pycharm": {
     "name": "#%%\n"
    }
   }
  },
  {
   "cell_type": "markdown",
   "source": [
    "(j) Compare the results of KNN Regression with the linear regression model that has\n",
    "the smallest test error and provide your analysis."
   ],
   "metadata": {
    "collapsed": false,
    "pycharm": {
     "name": "#%% md\n"
    }
   }
  },
  {
   "cell_type": "code",
   "execution_count": 30,
   "outputs": [],
   "source": [],
   "metadata": {
    "collapsed": false,
    "pycharm": {
     "name": "#%%\n"
    }
   }
  },
  {
   "cell_type": "markdown",
   "metadata": {
    "pycharm": {
     "name": "#%% md\n"
    }
   },
   "source": [
    "__3.__\n",
    "ISLR 2.4.7\n",
    "__(a)__\n",
    "The Euclidean distance is the straight line distance between two points. This can be calculated using the Pythagorean theorem.\n",
    "\n",
    "For 3D space we have:\n",
    "\n",
    "  $$d(p,q) = \\sqrt{(p_1-q_1)^2 + (p_2-q_2)^2 + (p_3-q_3)^2}$$\n",
    "Using the above formula, we get the following distances:\n",
    "\n",
    "\n",
    "$$\n",
    "\\begin {aligned}\n",
    "d(1,test) &= 3\\\\\n",
    "d(2,test) &= 2\\\\\n",
    "d(3,test) &= 3.16\\\\\n",
    "d(4,test) &= 2.24\\\\\n",
    "d(5,test) &= 1.41\\\\\n",
    "d(6,test) &= 1.73\\\\\n",
    "\\end {aligned}\n",
    "$$\n",
    "\n",
    "\n",
    "__(b)__\n",
    "\n",
    "  - **Green**; as nearest single observation is green.\n",
    "\n",
    "__(c)__\n",
    "\n",
    "  - **Red**; as nearest three observations are green, red and red.The probability of the test point belonging to red is 2/3 and green is 1/3. Therefore, the prediction is red.\n",
    "\n",
    "__(d)__\n",
    "\n",
    " - For highly non-linear boundaries, we would expect the best value of K to be small. Smaller values of K result in a more flexible KNN model, and this will produce a decision boundary that is non-linear. A larger K would mean more data points are considered by the KNN model and this means its decision boundary is closer to a linear shape."
   ]
  }
 ],
 "metadata": {
  "kernelspec": {
   "display_name": "Python 3 (ipykernel)",
   "language": "python",
   "name": "python3"
  },
  "language_info": {
   "codemirror_mode": {
    "name": "ipython",
    "version": 3
   },
   "file_extension": ".py",
   "mimetype": "text/x-python",
   "name": "python",
   "nbconvert_exporter": "python",
   "pygments_lexer": "ipython3",
   "version": "3.9.7"
  }
 },
 "nbformat": 4,
 "nbformat_minor": 4
}